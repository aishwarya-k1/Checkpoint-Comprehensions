{
 "cells": [
  {
   "cell_type": "markdown",
   "id": "ab0fde9a",
   "metadata": {},
   "source": [
    "# Comprehension Practice"
   ]
  },
  {
   "cell_type": "code",
   "execution_count": null,
   "id": "d1eedb83",
   "metadata": {},
   "outputs": [],
   "source": [
    "import pandas as pd\n",
    "import numpy as np\n",
    "import random\n",
    "\n",
    "# Create a list of odd numbers from 5 to 27 inclusive\n",
    "odd = \n",
    "print(odd)"
   ]
  },
  {
   "cell_type": "code",
   "execution_count": null,
   "id": "343ff37d",
   "metadata": {},
   "outputs": [],
   "source": [
    "# create a list of numbers divisible by 7 or 11 that are between 1 and 100\n",
    "nums = \n",
    "print(nums)"
   ]
  },
  {
   "cell_type": "code",
   "execution_count": null,
   "id": "1bd29db5",
   "metadata": {},
   "outputs": [],
   "source": [
    "# create a list of the squares from 1 to 100. [ 1, 4, 9, 16, 25, ... 100]\n",
    "squares = \n",
    "print(squares)\n"
   ]
  },
  {
   "cell_type": "code",
   "execution_count": null,
   "id": "c45b8539",
   "metadata": {},
   "outputs": [],
   "source": [
    "# use random.randint() to create a list of 50 random numbers from 13-33 inclusive\n",
    "nums =\n",
    "print(nums)\n",
    "\n",
    "# create a list of 50 random numbers from 65-100 inclusive\n",
    "scores = \n",
    "print(scores)\n",
    "\n",
    "# create a list of 50 random letters from 'a' to 'm' inclusive\n",
    "letters = \n",
    "print(letters)\n",
    "\n",
    "# create a dataframe with 3 columns and 50 rows\n",
    "# letter :  a random letter selected from 'a' to 'm'\n",
    "# num : a random number between 13 - 33 inclusive\n",
    "# score : a random number between 65 - 100 inclusive\n",
    "\n",
    "df = "
   ]
  },
  {
   "cell_type": "code",
   "execution_count": null,
   "id": "e6167e57",
   "metadata": {},
   "outputs": [],
   "source": [
    "# create a list of letters in the generate dataframe that have a score > 90\n",
    "# use df.loc and range()\n",
    "gt90 = \n",
    "print(gt90)\n",
    "\n",
    "# same thing, but use filters\n",
    "gt90 = \n",
    "print(gt90)\n",
    "\n",
    "# print out a sorted list of unique letters in df that have a score > 90.\n",
    "# Hint: use gt90 and sets\n",
    "un_gt90 = \n",
    "print(un_gt90)\n"
   ]
  },
  {
   "cell_type": "code",
   "execution_count": null,
   "id": "ac9eb145",
   "metadata": {},
   "outputs": [],
   "source": [
    "# find the count of times each letter appears in the df\n",
    "counts = \n",
    "print(counts)\n",
    "\n",
    "# find the count of times each letter has a score above 90\n",
    "counts = \n",
    "print(counts)\n",
    "\n",
    "# print the letter that has a score above 90 the most number of times\n",
    "print('most above 90', )"
   ]
  },
  {
   "cell_type": "code",
   "execution_count": null,
   "id": "6c9c8c49",
   "metadata": {},
   "outputs": [],
   "source": [
    "# create a dataframe with two columns:\n",
    "# letter 'a' - 'm'\n",
    "# state: random from ['WA', 'CA', 'OR', 'NV' ]\n",
    "# using a comprehension, create a list of letters a-m, inclusive\n",
    "letters = \n",
    "# using random.choice, create a list of length 13 that is a random\n",
    "# selection of states in ['WA', 'CA', 'OR', 'NV' ]\n",
    "states =\n",
    "# create a dataframe that has two columns, 'letter' and 'state' using\n",
    "# the two lists created above\n",
    "df2 =\n",
    "\n",
    "\n"
   ]
  },
  {
   "cell_type": "code",
   "execution_count": null,
   "id": "6cd347ce",
   "metadata": {},
   "outputs": [],
   "source": [
    "\n",
    "# join the above DataFrame with this latest dataframe, df2, that has states.\n",
    "# The joined dataframe should have all 50 rows from df.\n",
    "df3 = \n",
    "\n",
    "# display the first 10 rows of the resulting join.\n"
   ]
  },
  {
   "cell_type": "code",
   "execution_count": null,
   "id": "27dd8e30",
   "metadata": {},
   "outputs": [],
   "source": [
    "# display the state that has the greatest number of unique letters.\n",
    "most_unique =\n",
    "print('most unique', most_unique)\n",
    "\n",
    "# display all those unique letters in that state (any order)\n",
    "most_unique_letters = \n",
    "print(most_unique_letters)\n"
   ]
  },
  {
   "cell_type": "code",
   "execution_count": null,
   "id": "22a7ef27",
   "metadata": {},
   "outputs": [],
   "source": [
    "# for each of these letters, get the highest score they have\n",
    "# then, display the letters in order from highest to lowest.\n",
    "# display this as a Series where the index is the letter, and the score is the value.\n"
   ]
  },
  {
   "cell_type": "code",
   "execution_count": null,
   "id": "bd569f0d",
   "metadata": {},
   "outputs": [],
   "source": []
  }
 ],
 "metadata": {
  "kernelspec": {
   "display_name": "Python 3 (ipykernel)",
   "language": "python",
   "name": "python3"
  },
  "language_info": {
   "codemirror_mode": {
    "name": "ipython",
    "version": 3
   },
   "file_extension": ".py",
   "mimetype": "text/x-python",
   "name": "python",
   "nbconvert_exporter": "python",
   "pygments_lexer": "ipython3",
   "version": "3.10.9"
  }
 },
 "nbformat": 4,
 "nbformat_minor": 5
}
