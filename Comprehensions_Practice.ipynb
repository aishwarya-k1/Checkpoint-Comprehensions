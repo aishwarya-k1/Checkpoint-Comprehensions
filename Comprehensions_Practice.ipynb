{
 "cells": [
  {
   "cell_type": "markdown",
   "id": "ab0fde9a",
   "metadata": {},
   "source": [
    "# Comprehension Practice"
   ]
  },
  {
   "cell_type": "code",
   "execution_count": 2,
   "id": "d1eedb83",
   "metadata": {},
   "outputs": [
    {
     "name": "stdout",
     "output_type": "stream",
     "text": [
      "[5, 7, 9, 11, 13, 15, 17, 19, 21, 23, 25, 27]\n"
     ]
    }
   ],
   "source": [
    "import pandas as pd\n",
    "import numpy as np\n",
    "import random\n",
    "\n",
    "# Create a list of odd numbers from 5 to 27 inclusive\n",
    "odd = [i for i in range(5, 29, 2)]\n",
    "print(odd)"
   ]
  },
  {
   "cell_type": "code",
   "execution_count": 3,
   "id": "343ff37d",
   "metadata": {},
   "outputs": [
    {
     "name": "stdout",
     "output_type": "stream",
     "text": [
      "[7, 11, 14, 21, 22, 28, 33, 35, 42, 44, 49, 55, 56, 63, 66, 70, 77, 84, 88, 91, 98, 99]\n"
     ]
    }
   ],
   "source": [
    "# create a list of numbers divisible by 7 or 11 that are between 1 and 100\n",
    "nums = [i for i in range(1, 101) if (i % 7 == 0) or (i % 11 == 0)]\n",
    "print(nums)"
   ]
  },
  {
   "cell_type": "code",
   "execution_count": 4,
   "id": "1bd29db5",
   "metadata": {},
   "outputs": [
    {
     "name": "stdout",
     "output_type": "stream",
     "text": [
      "[1, 4, 9, 16, 25, 36, 49, 64, 81, 100]\n"
     ]
    }
   ],
   "source": [
    "# create a list of the squares from 1 to 100. [ 1, 4, 9, 16, 25, ... 100]\n",
    "squares = [i**2 for i in range(1, 11)]\n",
    "print(squares)\n"
   ]
  },
  {
   "cell_type": "code",
   "execution_count": 19,
   "id": "c45b8539",
   "metadata": {},
   "outputs": [
    {
     "name": "stdout",
     "output_type": "stream",
     "text": [
      "[33, 17, 16, 21, 26, 23, 23, 29, 16, 19, 33, 22, 32, 15, 13, 26, 18, 24, 21, 17, 30, 27, 22, 30, 25, 31, 25, 20, 15, 28, 28, 16, 23, 29, 21, 17, 28, 32, 15, 17, 25, 22, 26, 21, 13, 28, 19, 27, 31, 31]\n",
      "[77, 94, 91, 85, 71, 74, 89, 71, 77, 66, 71, 95, 88, 72, 98, 85, 89, 76, 98, 66, 74, 98, 77, 72, 95, 90, 70, 85, 74, 80, 80, 78, 100, 85, 89, 74, 67, 85, 89, 81, 86, 70, 87, 66, 100, 87, 84, 75, 100, 74]\n",
      "['c', 'm', 'f', 'e', 'b', 'b', 'l', 'm', 'a', 'm', 'f', 'm', 'g', 'j', 'a', 'j', 'e', 'k', 'd', 'c', 'f', 'j', 'l', 'f', 'd', 'd', 'k', 'f', 'j', 'g', 'd', 'b', 'm', 'f', 'b', 'd', 'e', 'l', 'g', 'e', 'b', 'k', 'g', 'l', 'k', 'j', 'm', 'j', 'k', 'h']\n",
      "   letter  num  score\n",
      "0       c   33     77\n",
      "1       m   17     94\n",
      "2       f   16     91\n",
      "3       e   21     85\n",
      "4       b   26     71\n",
      "5       b   23     74\n",
      "6       l   23     89\n",
      "7       m   29     71\n",
      "8       a   16     77\n",
      "9       m   19     66\n",
      "10      f   33     71\n",
      "11      m   22     95\n",
      "12      g   32     88\n",
      "13      j   15     72\n",
      "14      a   13     98\n",
      "15      j   26     85\n",
      "16      e   18     89\n",
      "17      k   24     76\n",
      "18      d   21     98\n",
      "19      c   17     66\n",
      "20      f   30     74\n",
      "21      j   27     98\n",
      "22      l   22     77\n",
      "23      f   30     72\n",
      "24      d   25     95\n",
      "25      d   31     90\n",
      "26      k   25     70\n",
      "27      f   20     85\n",
      "28      j   15     74\n",
      "29      g   28     80\n",
      "30      d   28     80\n",
      "31      b   16     78\n",
      "32      m   23    100\n",
      "33      f   29     85\n",
      "34      b   21     89\n",
      "35      d   17     74\n",
      "36      e   28     67\n",
      "37      l   32     85\n",
      "38      g   15     89\n",
      "39      e   17     81\n",
      "40      b   25     86\n",
      "41      k   22     70\n",
      "42      g   26     87\n",
      "43      l   21     66\n",
      "44      k   13    100\n",
      "45      j   28     87\n",
      "46      m   19     84\n",
      "47      j   27     75\n",
      "48      k   31    100\n",
      "49      h   31     74\n"
     ]
    }
   ],
   "source": [
    "# use random.randint() to create a list of 50 random numbers from 13-33 inclusive\n",
    "nums = [random.randint(13, 33) for i in range(50)]\n",
    "print(nums)\n",
    "\n",
    "# create a list of 50 random numbers from 65-100 inclusive\n",
    "scores = [random.randint(65, 100) for i in range(50)]\n",
    "print(scores)\n",
    "\n",
    "# create a list of 50 random letters from 'a' to 'm' inclusive\n",
    "letters = [chr(random.randint(97, 109)) for i in range(50)] # does this work -?!\n",
    "print(letters)\n",
    "\n",
    "# create a dataframe with 3 columns and 50 rows\n",
    "# letter :  a random letter selected from 'a' to 'm'\n",
    "# num : a random number between 13 - 33 inclusive\n",
    "# score : a random number between 65 - 100 inclusive\n",
    "\n",
    "df = pd.DataFrame({\n",
    "    'letter' : letters,\n",
    "    'num' : nums,\n",
    "    'score' : scores\n",
    "})\n",
    "\n",
    "print(df)"
   ]
  },
  {
   "cell_type": "code",
   "execution_count": 27,
   "id": "e6167e57",
   "metadata": {},
   "outputs": [
    {
     "name": "stdout",
     "output_type": "stream",
     "text": [
      "['m', 'f', 'm', 'a', 'd', 'j', 'd', 'm', 'k', 'k']\n",
      "['m', 'f', 'm', 'a', 'd', 'j', 'd', 'm', 'k', 'k']\n",
      "['a', 'd', 'f', 'j', 'k', 'm']\n"
     ]
    }
   ],
   "source": [
    "# create a list of letters in the generate dataframe that have a score > 90\n",
    "# use df.loc and range()\n",
    "gt90 = [df.loc[i, 'letter'] for i in range(len(df)) if df.loc[i, 'score'] > 90]\n",
    "print(gt90)\n",
    "\n",
    "# same thing, but use filters\n",
    "gt90 = list(df[df['score'] > 90]['letter'])\n",
    "print(gt90)\n",
    "\n",
    "# print out a sorted list of unique letters in df that have a score > 90.\n",
    "# Hint: use gt90 and sets\n",
    "un_gt90 = sorted(set(gt90))\n",
    "print(un_gt90)\n"
   ]
  },
  {
   "cell_type": "code",
   "execution_count": 36,
   "id": "ac9eb145",
   "metadata": {},
   "outputs": [
    {
     "name": "stdout",
     "output_type": "stream",
     "text": [
      "letter\n",
      "m    6\n",
      "f    6\n",
      "j    6\n",
      "b    5\n",
      "k    5\n",
      "d    5\n",
      "l    4\n",
      "e    4\n",
      "g    4\n",
      "c    2\n",
      "a    2\n",
      "h    1\n",
      "Name: count, dtype: int64\n",
      "letter\n",
      "m    3\n",
      "d    2\n",
      "k    2\n",
      "f    1\n",
      "a    1\n",
      "j    1\n",
      "Name: count, dtype: int64\n",
      "most above 90 m\n"
     ]
    }
   ],
   "source": [
    "# find the count of times each letter appears in the df\n",
    "counts = df['letter'].value_counts()\n",
    "print(counts)\n",
    "\n",
    "# find the count of times each letter has a score above 90\n",
    "counts = df[df['score'] > 90]['letter'].value_counts()\n",
    "print(counts)\n",
    "\n",
    "# print the letter that has a score above 90 the most number of times\n",
    "print('most above 90', counts.idxmax())"
   ]
  },
  {
   "cell_type": "code",
   "execution_count": 39,
   "id": "6c9c8c49",
   "metadata": {},
   "outputs": [
    {
     "name": "stdout",
     "output_type": "stream",
     "text": [
      "   letter state\n",
      "0       a    CA\n",
      "1       b    WA\n",
      "2       c    NV\n",
      "3       d    WA\n",
      "4       e    CA\n",
      "5       f    OR\n",
      "6       g    OR\n",
      "7       h    CA\n",
      "8       i    NV\n",
      "9       j    OR\n",
      "10      k    OR\n",
      "11      l    WA\n",
      "12      m    OR\n"
     ]
    }
   ],
   "source": [
    "# create a dataframe with two columns:\n",
    "# letter 'a' - 'm'\n",
    "# state: random from ['WA', 'CA', 'OR', 'NV' ]\n",
    "# using a comprehension, create a list of letters a-m, inclusive\n",
    "letters = [chr(i) for i in range(97, 110)]\n",
    "# using random.choice, create a list of length 13 that is a random\n",
    "# selection of states in ['WA', 'CA', 'OR', 'NV' ]\n",
    "states = [random.choice(['WA', 'CA', 'OR', 'NV']) for i in range(13)]\n",
    "# create a dataframe that has two columns, 'letter' and 'state' using\n",
    "# the two lists created above\n",
    "df2 = pd.DataFrame({\n",
    "    'letter' : letters,\n",
    "    'state' : states\n",
    "})\n",
    "print(df2)\n",
    "\n"
   ]
  },
  {
   "cell_type": "code",
   "execution_count": 40,
   "id": "6cd347ce",
   "metadata": {},
   "outputs": [
    {
     "name": "stdout",
     "output_type": "stream",
     "text": [
      "  letter  num  score state\n",
      "0      c   33     77    NV\n",
      "1      m   17     94    OR\n",
      "2      f   16     91    OR\n",
      "3      e   21     85    CA\n",
      "4      b   26     71    WA\n",
      "5      b   23     74    WA\n",
      "6      l   23     89    WA\n",
      "7      m   29     71    OR\n",
      "8      a   16     77    CA\n",
      "9      m   19     66    OR\n"
     ]
    }
   ],
   "source": [
    "\n",
    "# join the above DataFrame with this latest dataframe, df2, that has states.\n",
    "# The joined dataframe should have all 50 rows from df.\n",
    "df3 = df.merge(df2, on='letter', how='left')\n",
    "\n",
    "# display the first 10 rows of the resulting join.\n",
    "print(df3.head(10))"
   ]
  },
  {
   "cell_type": "code",
   "execution_count": 45,
   "id": "27dd8e30",
   "metadata": {},
   "outputs": [
    {
     "name": "stdout",
     "output_type": "stream",
     "text": [
      "most unique OR\n",
      "['m' 'f' 'g' 'j' 'k']\n"
     ]
    }
   ],
   "source": [
    "# display the state that has the greatest number of unique letters.\n",
    "most_unique = df3.groupby('state')['letter'].nunique().idxmax()\n",
    "print('most unique', most_unique)\n",
    "\n",
    "# display all those unique letters in that state (any order)\n",
    "most_unique_letters = df3[df3['state'] == most_unique]['letter'].unique()\n",
    "print(most_unique_letters)\n"
   ]
  },
  {
   "cell_type": "code",
   "execution_count": 46,
   "id": "22a7ef27",
   "metadata": {},
   "outputs": [
    {
     "name": "stdout",
     "output_type": "stream",
     "text": [
      "letter\n",
      "k    100\n",
      "m    100\n",
      "a     98\n",
      "d     98\n",
      "j     98\n",
      "f     91\n",
      "e     89\n",
      "b     89\n",
      "l     89\n",
      "g     89\n",
      "c     77\n",
      "h     74\n",
      "Name: score, dtype: int64\n"
     ]
    }
   ],
   "source": [
    "# for each of these letters, get the highest score they have\n",
    "# then, display the letters in order from highest to lowest.\n",
    "# display this as a Series where the index is the letter, and the score is the value.\n",
    "highest_scores = df.groupby('letter')['score'].max()\n",
    "sorted_highest_scores = highest_scores.sort_values(ascending=False)\n",
    "print(sorted_highest_scores)"
   ]
  }
 ],
 "metadata": {
  "kernelspec": {
   "display_name": "Python 3",
   "language": "python",
   "name": "python3"
  },
  "language_info": {
   "codemirror_mode": {
    "name": "ipython",
    "version": 3
   },
   "file_extension": ".py",
   "mimetype": "text/x-python",
   "name": "python",
   "nbconvert_exporter": "python",
   "pygments_lexer": "ipython3",
   "version": "3.12.1"
  }
 },
 "nbformat": 4,
 "nbformat_minor": 5
}
